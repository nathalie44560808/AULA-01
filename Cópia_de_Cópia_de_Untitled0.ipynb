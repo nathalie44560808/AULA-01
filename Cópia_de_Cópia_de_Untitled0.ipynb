{
  "nbformat": 4,
  "nbformat_minor": 0,
  "metadata": {
    "colab": {
      "provenance": [],
      "authorship_tag": "ABX9TyNqFwGDTIQddd2SQnGwZt2Y",
      "include_colab_link": true
    },
    "kernelspec": {
      "name": "python3",
      "display_name": "Python 3"
    },
    "language_info": {
      "name": "python"
    }
  },
  "cells": [
    {
      "cell_type": "markdown",
      "metadata": {
        "id": "view-in-github",
        "colab_type": "text"
      },
      "source": [
        "<a href=\"https://colab.research.google.com/github/nathalie44560808/AULA-01/blob/main/C%C3%B3pia_de_C%C3%B3pia_de_Untitled0.ipynb\" target=\"_parent\"><img src=\"https://colab.research.google.com/assets/colab-badge.svg\" alt=\"Open In Colab\"/></a>"
      ]
    },
    {
      "cell_type": "code",
      "execution_count": null,
      "metadata": {
        "colab": {
          "base_uri": "https://localhost:8080/"
        },
        "id": "6rHVCq7ewqlk",
        "outputId": "daecd8be-07d6-45a1-8d17-612a1f092ff4"
      },
      "outputs": [
        {
          "output_type": "stream",
          "name": "stdout",
          "text": [
            "Digite valor 1: 38\n",
            "Digite valor 2: 80\n",
            "3880\n"
          ]
        }
      ],
      "source": [
        "valor1 = input(\"Digite valor 1: \")\n",
        "valor2 = input(\"Digite valor 2: \")\n",
        "int(valor1)\n",
        "int(valor2)\n",
        "print(valor1 + valor2)\n"
      ]
    },
    {
      "cell_type": "code",
      "source": [
        "valor1 = float(input(\"Digite o valor: \"))\n",
        "valor2 = float(input(\"Digite o valor: \"))\n",
        "valor3 = float(input(\"Digite o valor: \"))\n",
        "valor4 = float(input(\"Digite o valor: \"))\n",
        "valor5 = float(input(\"Digite o valor: \"))\n",
        "valor6 = float(input(\"Digite o valor: \"))\n",
        "valor7 = float(input(\"Digite o valor: \"))\n",
        "valor8 = float(input(\"Digite o valor: \"))\n",
        "soma = valor1 + valor2 + valor3 + valor4 + valor5 + valor6 + valor7\n",
        "\n",
        "print(\"A soma dos valores é: \" , soma)\n",
        "\n",
        "\n",
        "\n"
      ],
      "metadata": {
        "colab": {
          "base_uri": "https://localhost:8080/"
        },
        "id": "bCqQhoz61Lk-",
        "outputId": "63187bb4-1fe0-4126-8c3f-191a06e99f99"
      },
      "execution_count": null,
      "outputs": [
        {
          "output_type": "stream",
          "name": "stdout",
          "text": [
            "Digite o valor: 3\n",
            "Digite o valor: 20\n",
            "Digite o valor: 1\n",
            "Digite o valor: 9\n",
            "Digite o valor: 4\n",
            "Digite o valor: 1\n",
            "Digite o valor: 9\n",
            "Digite o valor: 33\n",
            "A soma dos valores é:  47.0\n"
          ]
        }
      ]
    }
  ]
}